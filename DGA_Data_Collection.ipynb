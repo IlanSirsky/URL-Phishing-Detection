{
 "cells": [
  {
   "cell_type": "markdown",
   "metadata": {
    "id": "nKQG_wrvO4-d"
   },
   "source": [
    "# **Data Collection & Feature Extraction on DGA**\n",
    "\n",
    "### **Objective : Collect data and extract necessary features from that data to train Machine Learning models**\n",
    "\n",
    "# **1.0] Data Collection**"
   ]
  },
  {
   "cell_type": "code",
   "execution_count": 128,
   "metadata": {},
   "outputs": [
    {
     "name": "stdout",
     "output_type": "stream",
     "text": [
      "Note: you may need to restart the kernel to use updated packages.Requirement already satisfied: publicsuffixlist in c:\\users\\ilan1\\anaconda3\\lib\\site-packages (0.9.3)\n",
      "\n"
     ]
    }
   ],
   "source": [
    "pip install publicsuffixlist"
   ]
  },
  {
   "cell_type": "code",
   "execution_count": 129,
   "metadata": {
    "colab": {
     "base_uri": "https://localhost:8080/",
     "height": 36
    },
    "id": "Hz4_h7AXJqDY",
    "outputId": "82d3d0f1-5110-4fa1-d9d7-fcd7771db7ef"
   },
   "outputs": [],
   "source": [
    "import pandas as pd\n",
    "import re\n",
    "import math\n",
    "import collections\n",
    "from publicsuffixlist import PublicSuffixList"
   ]
  },
  {
   "cell_type": "code",
   "execution_count": 130,
   "metadata": {
    "colab": {
     "base_uri": "https://localhost:8080/",
     "height": 358
    },
    "id": "l64E2cSZJqG6",
    "outputId": "8ba707d0-d4e4-4feb-ff3f-8f5a0110e88c",
    "scrolled": false
   },
   "outputs": [
    {
     "data": {
      "text/html": [
       "<div>\n",
       "<style scoped>\n",
       "    .dataframe tbody tr th:only-of-type {\n",
       "        vertical-align: middle;\n",
       "    }\n",
       "\n",
       "    .dataframe tbody tr th {\n",
       "        vertical-align: top;\n",
       "    }\n",
       "\n",
       "    .dataframe thead th {\n",
       "        text-align: right;\n",
       "    }\n",
       "</style>\n",
       "<table border=\"1\" class=\"dataframe\">\n",
       "  <thead>\n",
       "    <tr style=\"text-align: right;\">\n",
       "      <th></th>\n",
       "      <th>label</th>\n",
       "      <th>dga_type</th>\n",
       "      <th>url</th>\n",
       "    </tr>\n",
       "  </thead>\n",
       "  <tbody>\n",
       "    <tr>\n",
       "      <th>0</th>\n",
       "      <td>dga</td>\n",
       "      <td>gozi</td>\n",
       "      <td>mortiscontrastatim.com</td>\n",
       "    </tr>\n",
       "    <tr>\n",
       "      <th>1</th>\n",
       "      <td>dga</td>\n",
       "      <td>corebot</td>\n",
       "      <td>cvyh1po636avyrsxebwbkn7.ddns.net</td>\n",
       "    </tr>\n",
       "    <tr>\n",
       "      <th>2</th>\n",
       "      <td>legit</td>\n",
       "      <td>alexa</td>\n",
       "      <td>plasticbags.sa.com</td>\n",
       "    </tr>\n",
       "    <tr>\n",
       "      <th>3</th>\n",
       "      <td>legit</td>\n",
       "      <td>alexa</td>\n",
       "      <td>mzltrack.com</td>\n",
       "    </tr>\n",
       "    <tr>\n",
       "      <th>4</th>\n",
       "      <td>legit</td>\n",
       "      <td>alexa</td>\n",
       "      <td>miss-slim.ru</td>\n",
       "    </tr>\n",
       "    <tr>\n",
       "      <th>5</th>\n",
       "      <td>dga</td>\n",
       "      <td>ranbyus</td>\n",
       "      <td>txumyqrubwutbb.cc</td>\n",
       "    </tr>\n",
       "    <tr>\n",
       "      <th>6</th>\n",
       "      <td>legit</td>\n",
       "      <td>alexa</td>\n",
       "      <td>myhostingpack.com</td>\n",
       "    </tr>\n",
       "    <tr>\n",
       "      <th>7</th>\n",
       "      <td>dga</td>\n",
       "      <td>symmi</td>\n",
       "      <td>ixekrihagimau.ddns.net</td>\n",
       "    </tr>\n",
       "    <tr>\n",
       "      <th>8</th>\n",
       "      <td>dga</td>\n",
       "      <td>emotet</td>\n",
       "      <td>rjyuosmhfnaedlyg.eu</td>\n",
       "    </tr>\n",
       "    <tr>\n",
       "      <th>9</th>\n",
       "      <td>dga</td>\n",
       "      <td>dircrypt</td>\n",
       "      <td>djqrmauttlloabj.com</td>\n",
       "    </tr>\n",
       "  </tbody>\n",
       "</table>\n",
       "</div>"
      ],
      "text/plain": [
       "   label  dga_type                               url\n",
       "0    dga      gozi            mortiscontrastatim.com\n",
       "1    dga   corebot  cvyh1po636avyrsxebwbkn7.ddns.net\n",
       "2  legit     alexa                plasticbags.sa.com\n",
       "3  legit     alexa                      mzltrack.com\n",
       "4  legit     alexa                      miss-slim.ru\n",
       "5    dga   ranbyus                 txumyqrubwutbb.cc\n",
       "6  legit     alexa                 myhostingpack.com\n",
       "7    dga     symmi            ixekrihagimau.ddns.net\n",
       "8    dga    emotet               rjyuosmhfnaedlyg.eu\n",
       "9    dga  dircrypt               djqrmauttlloabj.com"
      ]
     },
     "execution_count": 130,
     "metadata": {},
     "output_type": "execute_result"
    }
   ],
   "source": [
    "f_path = \"E:\\\\University\\\\Year 3\\\\Methods for detecting cyber attacks\\\\Project\\\\datasets\\\\dga_domains_full.csv\"\n",
    "df = pd.read_csv(f_path,names=[\"label\",\"dga_type\",\"url\"], header=None)\n",
    "\n",
    "df.head(10)"
   ]
  },
  {
   "cell_type": "code",
   "execution_count": 131,
   "metadata": {
    "colab": {
     "base_uri": "https://localhost:8080/"
    },
    "id": "flBv2jacJqOS",
    "outputId": "f659e539-d432-4fa0-a325-56268ed4ee92"
   },
   "outputs": [
    {
     "name": "stdout",
     "output_type": "stream",
     "text": [
      "<class 'pandas.core.frame.DataFrame'>\n",
      "RangeIndex: 674898 entries, 0 to 674897\n",
      "Data columns (total 3 columns):\n",
      " #   Column    Non-Null Count   Dtype \n",
      "---  ------    --------------   ----- \n",
      " 0   label     674898 non-null  object\n",
      " 1   dga_type  674898 non-null  object\n",
      " 2   url       674898 non-null  object\n",
      "dtypes: object(3)\n",
      "memory usage: 15.4+ MB\n"
     ]
    }
   ],
   "source": [
    "df.info()"
   ]
  },
  {
   "cell_type": "code",
   "execution_count": 132,
   "metadata": {
    "colab": {
     "base_uri": "https://localhost:8080/"
    },
    "id": "PRUlc4aKJqRd",
    "outputId": "28d4221c-7fd8-4f4a-971c-f9c2a99bd4fd"
   },
   "outputs": [
    {
     "data": {
      "text/plain": [
       "(674898, 3)"
      ]
     },
     "execution_count": 132,
     "metadata": {},
     "output_type": "execute_result"
    }
   ],
   "source": [
    "df.shape"
   ]
  },
  {
   "cell_type": "code",
   "execution_count": 133,
   "metadata": {
    "colab": {
     "base_uri": "https://localhost:8080/"
    },
    "id": "ixOjqQFmJqUl",
    "outputId": "1eccc9f9-5a67-4bb4-ff2a-c48f90bef3dc"
   },
   "outputs": [
    {
     "data": {
      "text/plain": [
       "dga      337500\n",
       "legit    337398\n",
       "Name: label, dtype: int64"
      ]
     },
     "execution_count": 133,
     "metadata": {},
     "output_type": "execute_result"
    }
   ],
   "source": [
    "# Printing number of legit and fraud domain urls\n",
    "df[\"label\"].value_counts()"
   ]
  },
  {
   "cell_type": "code",
   "execution_count": 134,
   "metadata": {},
   "outputs": [],
   "source": [
    "def labelTo_Binary(type):\n",
    "  # Convert Type to Binary variable DGA = 1, Normal = 0\n",
    "  if type == 'dga':\n",
    "    return 1\n",
    "  else:\n",
    "    return 0\n",
    "\n",
    "df['label'] = df['label'].apply(lambda i: labelTo_Binary(i))"
   ]
  },
  {
   "cell_type": "code",
   "execution_count": 135,
   "metadata": {},
   "outputs": [
    {
     "data": {
      "text/html": [
       "<div>\n",
       "<style scoped>\n",
       "    .dataframe tbody tr th:only-of-type {\n",
       "        vertical-align: middle;\n",
       "    }\n",
       "\n",
       "    .dataframe tbody tr th {\n",
       "        vertical-align: top;\n",
       "    }\n",
       "\n",
       "    .dataframe thead th {\n",
       "        text-align: right;\n",
       "    }\n",
       "</style>\n",
       "<table border=\"1\" class=\"dataframe\">\n",
       "  <thead>\n",
       "    <tr style=\"text-align: right;\">\n",
       "      <th></th>\n",
       "      <th>label</th>\n",
       "      <th>dga_type</th>\n",
       "      <th>url</th>\n",
       "    </tr>\n",
       "  </thead>\n",
       "  <tbody>\n",
       "    <tr>\n",
       "      <th>0</th>\n",
       "      <td>1</td>\n",
       "      <td>gozi</td>\n",
       "      <td>mortiscontrastatim.com</td>\n",
       "    </tr>\n",
       "    <tr>\n",
       "      <th>1</th>\n",
       "      <td>1</td>\n",
       "      <td>corebot</td>\n",
       "      <td>cvyh1po636avyrsxebwbkn7.ddns.net</td>\n",
       "    </tr>\n",
       "    <tr>\n",
       "      <th>2</th>\n",
       "      <td>0</td>\n",
       "      <td>alexa</td>\n",
       "      <td>plasticbags.sa.com</td>\n",
       "    </tr>\n",
       "    <tr>\n",
       "      <th>3</th>\n",
       "      <td>0</td>\n",
       "      <td>alexa</td>\n",
       "      <td>mzltrack.com</td>\n",
       "    </tr>\n",
       "    <tr>\n",
       "      <th>4</th>\n",
       "      <td>0</td>\n",
       "      <td>alexa</td>\n",
       "      <td>miss-slim.ru</td>\n",
       "    </tr>\n",
       "    <tr>\n",
       "      <th>5</th>\n",
       "      <td>1</td>\n",
       "      <td>ranbyus</td>\n",
       "      <td>txumyqrubwutbb.cc</td>\n",
       "    </tr>\n",
       "    <tr>\n",
       "      <th>6</th>\n",
       "      <td>0</td>\n",
       "      <td>alexa</td>\n",
       "      <td>myhostingpack.com</td>\n",
       "    </tr>\n",
       "    <tr>\n",
       "      <th>7</th>\n",
       "      <td>1</td>\n",
       "      <td>symmi</td>\n",
       "      <td>ixekrihagimau.ddns.net</td>\n",
       "    </tr>\n",
       "    <tr>\n",
       "      <th>8</th>\n",
       "      <td>1</td>\n",
       "      <td>emotet</td>\n",
       "      <td>rjyuosmhfnaedlyg.eu</td>\n",
       "    </tr>\n",
       "    <tr>\n",
       "      <th>9</th>\n",
       "      <td>1</td>\n",
       "      <td>dircrypt</td>\n",
       "      <td>djqrmauttlloabj.com</td>\n",
       "    </tr>\n",
       "  </tbody>\n",
       "</table>\n",
       "</div>"
      ],
      "text/plain": [
       "   label  dga_type                               url\n",
       "0      1      gozi            mortiscontrastatim.com\n",
       "1      1   corebot  cvyh1po636avyrsxebwbkn7.ddns.net\n",
       "2      0     alexa                plasticbags.sa.com\n",
       "3      0     alexa                      mzltrack.com\n",
       "4      0     alexa                      miss-slim.ru\n",
       "5      1   ranbyus                 txumyqrubwutbb.cc\n",
       "6      0     alexa                 myhostingpack.com\n",
       "7      1     symmi            ixekrihagimau.ddns.net\n",
       "8      1    emotet               rjyuosmhfnaedlyg.eu\n",
       "9      1  dircrypt               djqrmauttlloabj.com"
      ]
     },
     "execution_count": 135,
     "metadata": {},
     "output_type": "execute_result"
    }
   ],
   "source": [
    "df.head(10)"
   ]
  },
  {
   "cell_type": "markdown",
   "metadata": {
    "id": "QjyioIKFRzkJ"
   },
   "source": [
    "# **2.0] Feature Extraction**"
   ]
  },
  {
   "cell_type": "code",
   "execution_count": 136,
   "metadata": {},
   "outputs": [],
   "source": [
    "psl = PublicSuffixList()"
   ]
  },
  {
   "cell_type": "code",
   "execution_count": 137,
   "metadata": {},
   "outputs": [],
   "source": [
    "# Load Valid Top Level Domains data\n",
    "def load_topLevelDomain():\n",
    "  topLevelDomain = []\n",
    "  with open('./tlds-alpha-by-domain.txt', 'r') as content:\n",
    "      for line in content:\n",
    "          topLevelDomain.append((line.strip('\\n')))\n",
    "  return topLevelDomain"
   ]
  },
  {
   "cell_type": "code",
   "execution_count": 138,
   "metadata": {},
   "outputs": [],
   "source": [
    "topLevelDomain = load_topLevelDomain()"
   ]
  },
  {
   "cell_type": "code",
   "execution_count": 139,
   "metadata": {},
   "outputs": [],
   "source": [
    "def ignoreVPS(domain):\n",
    "    # Return the rest of domain after ignoring the Valid Public Suffixes:\n",
    "    validPublicSuffix = '.' + psl.publicsuffix(domain)\n",
    "    if len(validPublicSuffix) < len(domain):\n",
    "         # If it has VPS\n",
    "        subString = domain[0: domain.index(validPublicSuffix)]  \n",
    "    elif len(validPublicSuffix) == len(domain):\n",
    "        return 0\n",
    "    else:\n",
    "        # If not\n",
    "        subString = domain\n",
    "    \n",
    "    return subString"
   ]
  },
  {
   "cell_type": "code",
   "execution_count": 140,
   "metadata": {},
   "outputs": [],
   "source": [
    "def domain_length(domain):\n",
    "  # Generate Domain Name Length (DNL)\n",
    "  return len(domain)"
   ]
  },
  {
   "cell_type": "code",
   "execution_count": 141,
   "metadata": {},
   "outputs": [],
   "source": [
    "def subdomains_number(domain):\n",
    "  # Generate Number of Subdomains (NoS)\n",
    "  subdomain = ignoreVPS(domain)\n",
    "  return (subdomain.count('.') + 1)"
   ]
  },
  {
   "cell_type": "code",
   "execution_count": 142,
   "metadata": {},
   "outputs": [],
   "source": [
    "def subdomain_length_mean(domain):\n",
    "  # enerate Subdomain Length Mean (SLM) \n",
    "  subdomain = ignoreVPS(domain)\n",
    "  result = (len(subdomain) - subdomain.count('.')) / (subdomain.count('.') + 1)\n",
    "  return result\n"
   ]
  },
  {
   "cell_type": "code",
   "execution_count": 143,
   "metadata": {},
   "outputs": [],
   "source": [
    "def has_www_prefix(domain):\n",
    "  # Generate Has www Prefix (HwP)\n",
    "  if domain.split('.')[0] == 'www':\n",
    "    return 1\n",
    "  else:\n",
    "    return 0"
   ]
  },
  {
   "cell_type": "code",
   "execution_count": 144,
   "metadata": {},
   "outputs": [],
   "source": [
    "def has_hvltd(domain):\n",
    "  # Generate Has a Valid Top Level Domain (HVTLD)\n",
    "  if domain.split('.')[len(domain.split('.')) - 1].upper() in topLevelDomain:\n",
    "    return 1\n",
    "  else:\n",
    "    return 0"
   ]
  },
  {
   "cell_type": "code",
   "execution_count": 145,
   "metadata": {},
   "outputs": [],
   "source": [
    "def contains_single_character_subdomain(domain):\n",
    "  # Generate Contains Single-Character Subdomain (CSCS) \n",
    "  domain = ignoreVPS(domain)\n",
    "  str_split = domain.split('.')\n",
    "  minLength = len(str_split[0])\n",
    "  for i in range(0, len(str_split) - 1):\n",
    "      minLength = len(str_split[i]) if len(str_split[i]) < minLength else minLength\n",
    "  if minLength == 1:\n",
    "    return 1\n",
    "  else:\n",
    "    return 0"
   ]
  },
  {
   "cell_type": "code",
   "execution_count": 146,
   "metadata": {},
   "outputs": [],
   "source": [
    "def contains_TLD_subdomain(domain):\n",
    "  # Generate Contains TLD as Subdomain (CTS)\n",
    "  subdomain = ignoreVPS(domain)\n",
    "  str_split = subdomain.split('.')\n",
    "  for i in range(0, len(str_split) - 1):\n",
    "        if str_split[i].upper() in topLevelDomain:\n",
    "            return 1\n",
    "  return 0"
   ]
  },
  {
   "cell_type": "code",
   "execution_count": 147,
   "metadata": {},
   "outputs": [],
   "source": [
    "def underscore_ratio(domain):\n",
    "  # Generate Underscore Ratio (UR) on dataset\n",
    "  subString = ignoreVPS(domain)\n",
    "  result = subString.count('_') / (len(subString) - subString.count('.'))\n",
    "  return result"
   ]
  },
  {
   "cell_type": "code",
   "execution_count": 148,
   "metadata": {},
   "outputs": [],
   "source": [
    "def contains_IP_address(domain):\n",
    "  # Generate Contains IP Address (CIPA) on datasetx\n",
    "    splitSet = domain.split('.')\n",
    "    for element in splitSet:\n",
    "        if(re.match(\"\\d+\", element)) == None:\n",
    "            return 0\n",
    "    return 1  \n"
   ]
  },
  {
   "cell_type": "code",
   "execution_count": 149,
   "metadata": {},
   "outputs": [],
   "source": [
    "def contains_digit(domain):\n",
    "  \"\"\"\n",
    "   Contains Digits \n",
    "  \"\"\"\n",
    "  subdomain = ignoreVPS(domain)\n",
    "  for item in subdomain:\n",
    "    if item.isdigit():\n",
    "      return 1\n",
    "  return 0"
   ]
  },
  {
   "cell_type": "code",
   "execution_count": 150,
   "metadata": {},
   "outputs": [],
   "source": [
    "def vowel_ratio(domain):\n",
    "  \"\"\"\n",
    "  calculate Vowel Ratio \n",
    "  \"\"\"\n",
    "  VOWELS = set('aeiou')\n",
    "  v_counter = 0\n",
    "  a_counter = 0\n",
    "  subdomain = ignoreVPS(domain)\n",
    "  for item in subdomain:\n",
    "    if item.isalpha():\n",
    "      a_counter+=1\n",
    "      if item in VOWELS:\n",
    "        v_counter+=1\n",
    "  if a_counter>1:\n",
    "    ratio = v_counter/a_counter\n",
    "    return ratio"
   ]
  },
  {
   "cell_type": "code",
   "execution_count": 151,
   "metadata": {},
   "outputs": [],
   "source": [
    "def digit_ratio(domain):\n",
    "  \"\"\"\n",
    "  calculate digit ratio\n",
    "  \"\"\"\n",
    "  d_counter = 0\n",
    "  counter = 0\n",
    "  subdomain = ignoreVPS(domain)\n",
    "  for item in subdomain:\n",
    "    if item.isalpha() or item.isdigit():\n",
    "      counter+=1\n",
    "      if item.isdigit():\n",
    "        d_counter+=1\n",
    "  if counter>1:\n",
    "    ratio = d_counter/counter\n",
    "    return ratio"
   ]
  },
  {
   "cell_type": "code",
   "execution_count": 152,
   "metadata": {},
   "outputs": [],
   "source": [
    "def prc_rrc(domain):\n",
    "  \"\"\"\n",
    "  calculate the Ratio of Repeated Characters in a subdomain\n",
    "  \"\"\"\n",
    "  subdomain = ignoreVPS(domain)\n",
    "#   subdomain =''.join(re.findall('[a-zA-Z]+', subdomain)) \n",
    "  subdomain = re.sub(\"[.]\", \"\", subdomain)\n",
    "  char_num=0\n",
    "  repeated_char_num=0\n",
    "  d = collections.defaultdict(int)\n",
    "  for c in list(subdomain):\n",
    "      d[c] += 1\n",
    "  for item in d:\n",
    "    char_num +=1\n",
    "    if d[item]>1:\n",
    "      repeated_char_num +=1\n",
    "  ratio = repeated_char_num/char_num\n",
    "  return ratio"
   ]
  },
  {
   "cell_type": "code",
   "execution_count": 153,
   "metadata": {},
   "outputs": [],
   "source": [
    "def prc_rcd(domain):\n",
    "  \"\"\"\n",
    "  calculate the ratio of consecutive digits\n",
    "  \"\"\"\n",
    "  counter = 0\n",
    "  digit_counter=0\n",
    "  subdomain = ignoreVPS(domain)\n",
    "#   subdomain =''.join(re.findall('[a-zA-Z]+', subdomain)) \n",
    "  for item in subdomain:\n",
    "    i = 0\n",
    "    if item.isdigit():\n",
    "      counter+=1\n",
    "    else:\n",
    "      if counter>1:\n",
    "        digit_counter+=counter\n",
    "      counter=0\n",
    "    i+=1\n",
    "  if i==len(subdomain) and counter>1:\n",
    "    digit_counter+=counter\n",
    "  ratio = digit_counter/len(subdomain)\n",
    "  return ratio"
   ]
  },
  {
   "cell_type": "code",
   "execution_count": 154,
   "metadata": {},
   "outputs": [],
   "source": [
    "def prc_rcc(domain):\n",
    "  \"\"\"\n",
    "  calculate the Ratio of Consecutive Consonants\n",
    "  \"\"\"\n",
    "  VOWELS = set('aeiou')\n",
    "  counter = 0\n",
    "  cons_counter=0\n",
    "  subdomain = ignoreVPS(domain)\n",
    "#   subdomain =''.join(re.findall('[a-zA-Z]+', subdomain)) \n",
    "  for item in subdomain:\n",
    "    i = 0\n",
    "    if item.isalpha() and item not in VOWELS:\n",
    "      counter+=1\n",
    "    else:\n",
    "      if counter>1:\n",
    "        cons_counter+=counter\n",
    "      counter=0\n",
    "    i+=1\n",
    "  if i==len(subdomain) and counter>1:\n",
    "    cons_counter+=counter\n",
    "  ratio = cons_counter/len(subdomain)\n",
    "  return ratio   "
   ]
  },
  {
   "cell_type": "code",
   "execution_count": 155,
   "metadata": {},
   "outputs": [],
   "source": [
    "def prc_entropy(domain):\n",
    "    \"\"\"\n",
    "    calculate the entropy of subdomain\n",
    "    :param domain_str: subdomain\n",
    "    :return: the value of entropy\n",
    "    \"\"\"\n",
    "    subdomain = ignoreVPS(domain)\n",
    "    # get probability of chars in string\n",
    "    prob = [float(subdomain.count(c)) / len(subdomain) for c in dict.fromkeys(list(subdomain))]\n",
    "\n",
    "    # calculate the entropy\n",
    "    entropy = - sum([p * math.log(p) / math.log(2.0) for p in prob])\n",
    "    return entropy"
   ]
  },
  {
   "cell_type": "code",
   "execution_count": 156,
   "metadata": {},
   "outputs": [],
   "source": [
    "def extract_features():\n",
    "  df['DNL'] = df['url'].apply(lambda x: domain_length(x))\n",
    "  df['NoS'] = df['url'].apply(lambda x: subdomains_number(x))\n",
    "  df['SLM'] = df['url'].apply(lambda x: subdomain_length_mean(x))\n",
    "# df['HwP'] = df['url'].apply(lambda x: has_www_prefix(x))\n",
    "  df['HVTLD'] = df['url'].apply(lambda x: has_hvltd(x))\n",
    "# df['CSCS'] = df['url'].apply(lambda x: contains_single_character_subdomain(x))\n",
    "  df['CTS'] = df['url'].apply(lambda x: contains_TLD_subdomain(x))\n",
    "  df['UR'] = df['url'].apply(lambda x: underscore_ratio(x))\n",
    "# df['CIPA'] = df['url'].apply(lambda x: contains_IP_address(x))\n",
    "  df['contains_digit']= df['url'].apply(lambda x:contains_digit(x))\n",
    "  df['vowel_ratio']= df['url'].apply(lambda x:vowel_ratio(x))\n",
    "  df['digit_ratio']= df['url'].apply(lambda x:digit_ratio(x))\n",
    "  df['RRC']= df['url'].apply(lambda x:prc_rrc(x))\n",
    "  df['RCC']= df['url'].apply(lambda x:prc_rcc(x))\n",
    "  df['RCD']= df['url'].apply(lambda x:prc_rcd(x))\n",
    "  df['Entropy']= df['url'].apply(lambda x:prc_entropy(x))"
   ]
  },
  {
   "cell_type": "code",
   "execution_count": 157,
   "metadata": {},
   "outputs": [
    {
     "data": {
      "text/html": [
       "<div>\n",
       "<style scoped>\n",
       "    .dataframe tbody tr th:only-of-type {\n",
       "        vertical-align: middle;\n",
       "    }\n",
       "\n",
       "    .dataframe tbody tr th {\n",
       "        vertical-align: top;\n",
       "    }\n",
       "\n",
       "    .dataframe thead th {\n",
       "        text-align: right;\n",
       "    }\n",
       "</style>\n",
       "<table border=\"1\" class=\"dataframe\">\n",
       "  <thead>\n",
       "    <tr style=\"text-align: right;\">\n",
       "      <th></th>\n",
       "      <th>label</th>\n",
       "      <th>dga_type</th>\n",
       "      <th>url</th>\n",
       "      <th>DNL</th>\n",
       "      <th>NoS</th>\n",
       "      <th>SLM</th>\n",
       "      <th>HVTLD</th>\n",
       "      <th>CTS</th>\n",
       "      <th>UR</th>\n",
       "      <th>contains_digit</th>\n",
       "      <th>vowel_ratio</th>\n",
       "      <th>digit_ratio</th>\n",
       "      <th>RRC</th>\n",
       "      <th>RCC</th>\n",
       "      <th>RCD</th>\n",
       "      <th>Entropy</th>\n",
       "    </tr>\n",
       "  </thead>\n",
       "  <tbody>\n",
       "    <tr>\n",
       "      <th>0</th>\n",
       "      <td>1</td>\n",
       "      <td>gozi</td>\n",
       "      <td>mortiscontrastatim.com</td>\n",
       "      <td>22</td>\n",
       "      <td>1</td>\n",
       "      <td>18.0</td>\n",
       "      <td>1</td>\n",
       "      <td>0</td>\n",
       "      <td>0.0</td>\n",
       "      <td>0</td>\n",
       "      <td>0.333333</td>\n",
       "      <td>0.000000</td>\n",
       "      <td>0.777778</td>\n",
       "      <td>0.500000</td>\n",
       "      <td>0.000000</td>\n",
       "      <td>3.058814</td>\n",
       "    </tr>\n",
       "    <tr>\n",
       "      <th>1</th>\n",
       "      <td>1</td>\n",
       "      <td>corebot</td>\n",
       "      <td>cvyh1po636avyrsxebwbkn7.ddns.net</td>\n",
       "      <td>32</td>\n",
       "      <td>1</td>\n",
       "      <td>23.0</td>\n",
       "      <td>1</td>\n",
       "      <td>0</td>\n",
       "      <td>0.0</td>\n",
       "      <td>1</td>\n",
       "      <td>0.166667</td>\n",
       "      <td>0.217391</td>\n",
       "      <td>0.210526</td>\n",
       "      <td>0.608696</td>\n",
       "      <td>0.130435</td>\n",
       "      <td>4.175736</td>\n",
       "    </tr>\n",
       "    <tr>\n",
       "      <th>2</th>\n",
       "      <td>0</td>\n",
       "      <td>alexa</td>\n",
       "      <td>plasticbags.sa.com</td>\n",
       "      <td>18</td>\n",
       "      <td>1</td>\n",
       "      <td>11.0</td>\n",
       "      <td>1</td>\n",
       "      <td>0</td>\n",
       "      <td>0.0</td>\n",
       "      <td>0</td>\n",
       "      <td>0.272727</td>\n",
       "      <td>0.000000</td>\n",
       "      <td>0.222222</td>\n",
       "      <td>0.545455</td>\n",
       "      <td>0.000000</td>\n",
       "      <td>3.095795</td>\n",
       "    </tr>\n",
       "    <tr>\n",
       "      <th>3</th>\n",
       "      <td>0</td>\n",
       "      <td>alexa</td>\n",
       "      <td>mzltrack.com</td>\n",
       "      <td>12</td>\n",
       "      <td>1</td>\n",
       "      <td>8.0</td>\n",
       "      <td>1</td>\n",
       "      <td>0</td>\n",
       "      <td>0.0</td>\n",
       "      <td>0</td>\n",
       "      <td>0.125000</td>\n",
       "      <td>0.000000</td>\n",
       "      <td>0.000000</td>\n",
       "      <td>0.625000</td>\n",
       "      <td>0.000000</td>\n",
       "      <td>3.000000</td>\n",
       "    </tr>\n",
       "    <tr>\n",
       "      <th>4</th>\n",
       "      <td>0</td>\n",
       "      <td>alexa</td>\n",
       "      <td>miss-slim.ru</td>\n",
       "      <td>12</td>\n",
       "      <td>1</td>\n",
       "      <td>9.0</td>\n",
       "      <td>1</td>\n",
       "      <td>0</td>\n",
       "      <td>0.0</td>\n",
       "      <td>0</td>\n",
       "      <td>0.250000</td>\n",
       "      <td>0.000000</td>\n",
       "      <td>0.600000</td>\n",
       "      <td>0.444444</td>\n",
       "      <td>0.000000</td>\n",
       "      <td>2.197160</td>\n",
       "    </tr>\n",
       "  </tbody>\n",
       "</table>\n",
       "</div>"
      ],
      "text/plain": [
       "   label dga_type                               url  DNL  NoS   SLM  HVTLD  \\\n",
       "0      1     gozi            mortiscontrastatim.com   22    1  18.0      1   \n",
       "1      1  corebot  cvyh1po636avyrsxebwbkn7.ddns.net   32    1  23.0      1   \n",
       "2      0    alexa                plasticbags.sa.com   18    1  11.0      1   \n",
       "3      0    alexa                      mzltrack.com   12    1   8.0      1   \n",
       "4      0    alexa                      miss-slim.ru   12    1   9.0      1   \n",
       "\n",
       "   CTS   UR  contains_digit  vowel_ratio  digit_ratio       RRC       RCC  \\\n",
       "0    0  0.0               0     0.333333     0.000000  0.777778  0.500000   \n",
       "1    0  0.0               1     0.166667     0.217391  0.210526  0.608696   \n",
       "2    0  0.0               0     0.272727     0.000000  0.222222  0.545455   \n",
       "3    0  0.0               0     0.125000     0.000000  0.000000  0.625000   \n",
       "4    0  0.0               0     0.250000     0.000000  0.600000  0.444444   \n",
       "\n",
       "        RCD   Entropy  \n",
       "0  0.000000  3.058814  \n",
       "1  0.130435  4.175736  \n",
       "2  0.000000  3.095795  \n",
       "3  0.000000  3.000000  \n",
       "4  0.000000  2.197160  "
      ]
     },
     "execution_count": 157,
     "metadata": {},
     "output_type": "execute_result"
    }
   ],
   "source": [
    "extract_features()\n",
    "df.head()"
   ]
  },
  {
   "cell_type": "code",
   "execution_count": 158,
   "metadata": {
    "id": "iFkSkAa7WEIK"
   },
   "outputs": [],
   "source": [
    "df.to_csv(\"DGA_Processed.csv\")"
   ]
  },
  {
   "cell_type": "code",
   "execution_count": null,
   "metadata": {},
   "outputs": [],
   "source": []
  }
 ],
 "metadata": {
  "colab": {
   "collapsed_sections": [],
   "name": "Data Collection and Feature Extraction (Phishing urls).ipynb",
   "provenance": []
  },
  "kernelspec": {
   "display_name": "Python 3 (ipykernel)",
   "language": "python",
   "name": "python3"
  },
  "language_info": {
   "codemirror_mode": {
    "name": "ipython",
    "version": 3
   },
   "file_extension": ".py",
   "mimetype": "text/x-python",
   "name": "python",
   "nbconvert_exporter": "python",
   "pygments_lexer": "ipython3",
   "version": "3.9.13"
  }
 },
 "nbformat": 4,
 "nbformat_minor": 1
}
